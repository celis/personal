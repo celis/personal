{
 "cells": [
  {
   "cell_type": "markdown",
   "metadata": {},
   "source": [
    "# Flask MNIST\n",
    "> A web application for classifying MNIST images.\n",
    "\n",
    "- toc: true \n",
    "- badges: true\n",
    "- comments: true\n",
    "- categories: [jupyter]\n",
    "- image: images/mnist.jpg"
   ]
  },
  {
   "cell_type": "markdown",
   "metadata": {},
   "source": [
    "# Introduction"
   ]
  },
  {
   "cell_type": "markdown",
   "metadata": {},
   "source": [
    "On this project I built a simple web application motivated by the repository [pytorch-flask-api-heroku](https://github.com/avinassh/pytorch-flask-api-heroku).   The project [pytorch-flask-api-heroku](https://github.com/avinassh/pytorch-flask-api-heroku) builds a web application for classifying images that can be uploaded via a web form. The web application is deployed in Heroku and uses a pre-trained model from PyTorch for the image classification.    \n",
    "\n",
    "My objective was to build a similar web application hosting an image classifier trained on the MNIST dataset.   The MNIST dataset consist of a collection of handwritten digit images. The digits have been size-normalized and centered in a 28x28 pixel box. \n",
    "\n",
    "<img src=\"../images/mnist.jpg\" width=\"400\">\n",
    "\n",
    "The following [repository](https://github.com/celis/mnist) trains a Logistic Regression classifier on the MNIST dataset and uploads the model artifact to AWS S3.  On this part I used as reference the tutorial [What is torch.nn really?](https://pytorch.org/tutorials/beginner/nn_tutorial.html).\n",
    "\n",
    "Last, this [repository](https://github.com/celis/flask_mnist) contains the Flask web application. It downloads the model artifact from AWS S3 and predicts the digit of an image uploaded via a web form.     The web application was deployed in Heroku."
   ]
  },
  {
   "cell_type": "markdown",
   "metadata": {},
   "source": [
    "# Demonstration"
   ]
  },
  {
   "cell_type": "markdown",
   "metadata": {},
   "source": [
    "Below I provide a demonstration of the application."
   ]
  },
  {
   "cell_type": "markdown",
   "metadata": {},
   "source": [
    "> youtube: https://youtu.be/POizQhyk9LA"
   ]
  }
 ],
 "metadata": {
  "kernelspec": {
   "display_name": "Python 3",
   "language": "python",
   "name": "python3"
  },
  "language_info": {
   "codemirror_mode": {
    "name": "ipython",
    "version": 3
   },
   "file_extension": ".py",
   "mimetype": "text/x-python",
   "name": "python",
   "nbconvert_exporter": "python",
   "pygments_lexer": "ipython3",
   "version": "3.7.3"
  }
 },
 "nbformat": 4,
 "nbformat_minor": 2
}
