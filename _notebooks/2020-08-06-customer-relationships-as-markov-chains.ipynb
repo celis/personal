{
 "cells": [
  {
   "cell_type": "markdown",
   "metadata": {},
   "source": [
    "# Modelling Customer Relationships as Markov Chains\n",
    "> Overview of the work from P. E. Pfeifer and R. L. Carraway\n",
    "\n",
    "- toc: true \n",
    "- badges: true\n",
    "- comments: true\n",
    "- categories: [jupyter]\n",
    "- image: images/markov.png"
   ]
  },
  {
   "cell_type": "markdown",
   "metadata": {},
   "source": [
    "# Introduction"
   ]
  },
  {
   "cell_type": "markdown",
   "metadata": {},
   "source": [
    "in progress...\n",
    "\n",
    "On this note I want to explore the work presented in the article \"Modelling customer relationships as Markov Chains\" from P. E. Pfeifer and R. L. Carraway (2000). \n",
    "\n",
    "First, lets consider a business with non-contractual relations with their customers, it can be for instance a shop selling products.   The business spends money on marketing campaings that aim to make customers who have purchased previously purchase again. These campaings could be physical brochures that are delivered to the customers. \n",
    "\n",
    "As the famous quote says \"Half the money I spend on advertising is wasted; the trouble is I don't know which half.\" (John Wanamake). The purpose of the work analized here is to model the customer purchasing behavior in the scenario depicted above, with the objective of optimizing the marketing spend of the business.\n",
    "\n",
    "\n",
    "<img src=\"../images/markov.png\" width=\"500\">\n"
   ]
  },
  {
   "cell_type": "markdown",
   "metadata": {},
   "source": [
    "\\begin{equation*}\n",
    "\\mathbf{P} = \n",
    "\\begin{pmatrix}\n",
    "p_1 & 1 - p_{1} & 0 & 0 & 0 \\\\\n",
    "p_2 & 0 & 1- p_2 & 0 & 0\\\\\n",
    "p_3  & 0  & 0  & 1-p_3 & 0 \\\\\n",
    "p_4  & 0 & 0 & 0 & 1-p_4 \\\\\n",
    "0  & 0 & 0 & 0& 1 \n",
    "\\end{pmatrix}\n",
    "\\end{equation*}"
   ]
  },
  {
   "cell_type": "markdown",
   "metadata": {},
   "source": [
    "\\begin{equation*}\n",
    "\\mathbf{R} = \n",
    "\\begin{pmatrix}\n",
    "NC - M \\\\\n",
    "-M \\\\\n",
    "-M \\\\\n",
    "-M \\\\\n",
    "0 \n",
    "\\end{pmatrix}\n",
    "\\end{equation*}"
   ]
  },
  {
   "cell_type": "markdown",
   "metadata": {},
   "source": [
    "Lifetime Value (LV)\n",
    "\n",
    "\\begin{equation*}\n",
    "\\mathrm{LV} = \\lim_{T \\to \\infty}\\sum_{t=0}^{T} [(1+d)^{-1} \\mathbf{P} ]^t \\, R \n",
    "\\end{equation*}"
   ]
  },
  {
   "cell_type": "markdown",
   "metadata": {},
   "source": [
    "NC net contribution"
   ]
  },
  {
   "cell_type": "markdown",
   "metadata": {},
   "source": [
    "# Customer Lifetime Value"
   ]
  },
  {
   "cell_type": "markdown",
   "metadata": {},
   "source": [
    "# Markov Chains"
   ]
  },
  {
   "cell_type": "markdown",
   "metadata": {},
   "source": [
    "absortive markov chain"
   ]
  },
  {
   "cell_type": "markdown",
   "metadata": {},
   "source": [
    "# General Formulation"
   ]
  },
  {
   "cell_type": "markdown",
   "metadata": {},
   "source": [
    "# Example"
   ]
  },
  {
   "cell_type": "code",
   "execution_count": null,
   "metadata": {},
   "outputs": [],
   "source": []
  }
 ],
 "metadata": {
  "kernelspec": {
   "display_name": "Python 3",
   "language": "python",
   "name": "python3"
  },
  "language_info": {
   "codemirror_mode": {
    "name": "ipython",
    "version": 3
   },
   "file_extension": ".py",
   "mimetype": "text/x-python",
   "name": "python",
   "nbconvert_exporter": "python",
   "pygments_lexer": "ipython3",
   "version": "3.7.3"
  }
 },
 "nbformat": 4,
 "nbformat_minor": 2
}
