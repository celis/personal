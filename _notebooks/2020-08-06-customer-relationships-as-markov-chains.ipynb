{
 "cells": [
  {
   "cell_type": "markdown",
   "metadata": {},
   "source": [
    "# Modelling Customer Relationships as Markov Chains\n",
    "> Overview of the work from P. E. Pfeifer and R. L. Carraway\n",
    "\n",
    "- toc: true \n",
    "- badges: true\n",
    "- comments: true\n",
    "- categories: [jupyter]\n",
    "- image: images/markov.png"
   ]
  },
  {
   "cell_type": "markdown",
   "metadata": {},
   "source": [
    "# Introduction"
   ]
  },
  {
   "cell_type": "markdown",
   "metadata": {},
   "source": [
    "On this note I want to explore the work presented in the article [\"Modelling customer relationships as Markov Chains\" from P. E. Pfeifer and R. L. Carraway (2000)](http://web.stanford.edu/class/msande121/Links/crmmodelingmarkov.pdf). \n",
    "\n",
    "Lets consider a business with non-contractual relations with their customers, it can be for instance a shop selling products.   The business spends money on direct marketing campaings that aim to make customers who have purchased previously purchase again.\n",
    "\n",
    "As the famous quote says \"Half the money I spend on advertising is wasted; the trouble is I don't know which half.\" (John Wanamake). The purpose of the work analized here is to model the customer purchasing behavior in the scenario depicted above, with the objective of optimizing the direct marketing spend of the business.\n",
    "\n",
    "The authors start by presenting a simple toy scenario to illustrate their ideas.    I will present in the following this simple scenario, though with some modifications that I think will help to make things more concrete.        \n",
    "\n",
    "Consider a shop that sells one product at a price $NC$ (in the notation of the authors, $NC$ is the net contribution to the company profits).    Assume for simplicity that customers cannot buy more than one unit per month from this shop.     Every month the company will spend $M$ in marketing for each customer unless its last purchase was 5 months ago or longer.   \n",
    "\n",
    "Now, we have a new customer that purchases in january.   In february we will say that this customer has a recency $r=1$, as one month as passed.  On march, he will continue having recency $r=1$ if he bought again in february, otherwise he will have recency $r=2$.  If the customer has not bought anything by june, he will have recency $r=5$ by then and we will declare him inactive at that point.    We do this because on this example, the shop observed that customers with recency equal or larger than 5 never come back to buy again.\n",
    "\n",
    "This idea of the recency is very simple and we will use it to describe the so-called customer state.     In the toy scenario we analyze, we will assume that the probability that a customer will purchase in a given month only depends on its recency (its state).     Direct marketers have observed that recency plays a very important role in determining the probability that a customer will purchase again, so though we analyze a very simplified scenario it is not pointless.   \n",
    "\n",
    "\n",
    "The system we are describing is very special, in the sense that the next state of the customer is determined only by its previous state.  For instance, a customer with recency $r=3$ can either purchase again or not.  The probability he purchases again in that month only depends on its recency.   If he purchases again his next state is $r=1$, else his next state is $r=4$. This is what people calls the Markov property.  \n",
    "\n",
    "If we draw this system as a diagram it would look like this\n",
    "\n",
    "\n",
    "<img src=\"../images/markov.png\" width=\"500\">\n",
    "\n",
    "The arrows represent the possible paths and $p_r$ represents the probability that a customer with recency $r$ will purchase again.   In matrix form, the previous diagram canbe written as\n"
   ]
  },
  {
   "cell_type": "markdown",
   "metadata": {},
   "source": [
    "\\begin{equation*}\n",
    "\\mathbf{P} = \n",
    "\\begin{pmatrix}\n",
    "p_1 & 1 - p_{1} & 0 & 0 & 0 \\\\\n",
    "p_2 & 0 & 1- p_2 & 0 & 0\\\\\n",
    "p_3  & 0  & 0  & 1-p_3 & 0 \\\\\n",
    "p_4  & 0 & 0 & 0 & 1-p_4 \\\\\n",
    "0  & 0 & 0 & 0& 1 \n",
    "\\end{pmatrix}\n",
    "\\end{equation*}"
   ]
  },
  {
   "cell_type": "markdown",
   "metadata": {},
   "source": [
    "\\begin{equation*}\n",
    "\\mathbf{R} = \n",
    "\\begin{pmatrix}\n",
    "NC - M \\\\\n",
    "-M \\\\\n",
    "-M \\\\\n",
    "-M \\\\\n",
    "0 \n",
    "\\end{pmatrix}\n",
    "\\end{equation*}"
   ]
  },
  {
   "cell_type": "markdown",
   "metadata": {},
   "source": [
    "Lifetime Value (LV)\n",
    "\n",
    "\\begin{equation*}\n",
    "\\mathrm{LV} = \\lim_{T \\to \\infty}\\sum_{t=0}^{T} [(1+d)^{-1} \\mathbf{P} ]^t \\, R \n",
    "\\end{equation*}"
   ]
  },
  {
   "cell_type": "markdown",
   "metadata": {},
   "source": []
  },
  {
   "cell_type": "markdown",
   "metadata": {},
   "source": [
    "# Customer Lifetime Value"
   ]
  },
  {
   "cell_type": "markdown",
   "metadata": {},
   "source": [
    "# Markov Chains"
   ]
  },
  {
   "cell_type": "markdown",
   "metadata": {},
   "source": [
    "absortive markov chain"
   ]
  },
  {
   "cell_type": "markdown",
   "metadata": {},
   "source": [
    "# General Formulation"
   ]
  },
  {
   "cell_type": "markdown",
   "metadata": {},
   "source": [
    "# Example"
   ]
  },
  {
   "cell_type": "code",
   "execution_count": null,
   "metadata": {},
   "outputs": [],
   "source": []
  }
 ],
 "metadata": {
  "kernelspec": {
   "display_name": "Python 3",
   "language": "python",
   "name": "python3"
  },
  "language_info": {
   "codemirror_mode": {
    "name": "ipython",
    "version": 3
   },
   "file_extension": ".py",
   "mimetype": "text/x-python",
   "name": "python",
   "nbconvert_exporter": "python",
   "pygments_lexer": "ipython3",
   "version": "3.7.3"
  }
 },
 "nbformat": 4,
 "nbformat_minor": 2
}
